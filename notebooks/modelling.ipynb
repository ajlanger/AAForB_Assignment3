{
 "cells": [
  {
   "cell_type": "code",
   "execution_count": null,
   "metadata": {},
   "outputs": [],
   "source": [
    "# Import libraries\n"
   ]
  },
  {
   "cell_type": "code",
   "execution_count": 1,
   "metadata": {},
   "outputs": [
    {
     "data": {
      "text/html": [
       "<style>.container { width:95% !important; }</style>"
      ],
      "text/plain": [
       "<IPython.core.display.HTML object>"
      ]
     },
     "metadata": {},
     "output_type": "display_data"
    },
    {
     "name": "stdout",
     "output_type": "stream",
     "text": [
      "+-----+--------------------+--------------------+--------------+--------------------+--------------------+-----------------+--------------------+\n",
      "|label|             comment|          title_page|     name_user|      clean_old_text|      clean_new_text|    removed_words|         added_words|\n",
      "+-----+--------------------+--------------------+--------------+--------------------+--------------------+-----------------+--------------------+\n",
      "| safe|   fixed cite errors|timeline of the 2...|     john b123|short description...|short description...|last websitewww  |cnbeta lastcnn  s...|\n",
      "| safe|duplicate word re...|timeline of the 2...|       arjayay|short description...|short description...|            empty|                the |\n",
      "| safe|         23 february|timeline of the 2...|reddyhakky1998|see alsotimeline ...|see alsotimeline ...|      february   |           february |\n",
      "+-----+--------------------+--------------------+--------------+--------------------+--------------------+-----------------+--------------------+\n",
      "only showing top 3 rows\n",
      "\n"
     ]
    }
   ],
   "source": [
    "# Manipulate data\n",
    "%run \"Preprocessing.ipynb\"\n",
    "wiki_df = get_wiki_df()\n",
    "clean_df = get_clean_df(wiki_df)\n",
    "df_with_difference = get_difference_column(clean_df)\n",
    "final_df = split_difference_into_removed_added(df_with_difference)\n",
    "final_df.show(3)"
   ]
  }
 ],
 "metadata": {
  "kernelspec": {
   "display_name": "Python_thesis",
   "language": "python",
   "name": "python3"
  },
  "language_info": {
   "codemirror_mode": {
    "name": "ipython",
    "version": 3
   },
   "file_extension": ".py",
   "mimetype": "text/x-python",
   "name": "python",
   "nbconvert_exporter": "python",
   "pygments_lexer": "ipython3",
   "version": "3.7.4"
  }
 },
 "nbformat": 4,
 "nbformat_minor": 4
}
