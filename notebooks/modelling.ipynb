{
 "cells": [
  {
   "cell_type": "code",
   "execution_count": 2,
   "metadata": {
    "scrolled": false
   },
   "outputs": [
    {
     "data": {
      "text/html": [
       "<style>.container { width:95% !important; }</style>"
      ],
      "text/plain": [
       "<IPython.core.display.HTML object>"
      ]
     },
     "metadata": {},
     "output_type": "display_data"
    }
   ],
   "source": [
    "# Import libraries\n",
    "\n",
    "\n",
    "\n",
    "# data manipulation\n",
    "\n",
    "\n",
    "# visualize\n",
    "\n",
    "\n",
    "# pyspark\n",
    "\n",
    "\n",
    "\n",
    "# other\n",
    "from threading import Thread\n",
    "from IPython.core.display import display, HTML\n",
    "display(HTML(\"<style>.container { width:95% !important; }</style>\"))\n"
   ]
  },
  {
   "cell_type": "code",
   "execution_count": 37,
   "metadata": {},
   "outputs": [],
   "source": [
    "class StreamingThread(Thread):\n",
    "    def __init__(self, ssc):\n",
    "        Thread.__init__(self)\n",
    "        self.ssc = ssc\n",
    "    # Start stream\n",
    "    def run(self):\n",
    "        ssc.start()\n",
    "        ssc.awaitTermination()\n",
    "    # Stop stream\n",
    "    def stop(self):\n",
    "        print('----- Stopping... this may take a few seconds -----')\n",
    "        self.ssc.stop(stopSparkContext=False, stopGraceFully=True)"
   ]
  },
  {
   "cell_type": "code",
   "execution_count": 3,
   "metadata": {},
   "outputs": [
    {
     "data": {
      "text/html": [
       "<style>.container { width:95% !important; }</style>"
      ],
      "text/plain": [
       "<IPython.core.display.HTML object>"
      ]
     },
     "metadata": {},
     "output_type": "display_data"
    },
    {
     "data": {
      "image/png": "[encoded data removed]",
      "text/plain": [
       "<Figure size 720x72 with 1 Axes>"
      ]
     },
     "metadata": {},
     "output_type": "display_data"
    },
    {
     "data": {
      "text/plain": [
       "<Figure size 576x288 with 0 Axes>"
      ]
     },
     "metadata": {},
     "output_type": "display_data"
    },
    {
     "data": {
      "image/png": "[encoded data removed]",
      "text/plain": [
       "<Figure size 432x288 with 1 Axes>"
      ]
     },
     "metadata": {},
     "output_type": "display_data"
    },
    {
     "name": "stdout",
     "output_type": "stream",
     "text": [
      "+------+--------------------+--------------------+--------------------+--------------------+--------------------+--------------------+\n",
      "| label|             comment|          title_page|           name_user|      clean_old_text|      clean_new_text|          difference|\n",
      "+------+--------------------+--------------------+--------------------+--------------------+--------------------+--------------------+\n",
      "|  safe|            map date|201920 coronaviru...|       raphal dunant|redirectcoronavir...|redirectcoronavir...|4  |SEPERATIONLIN...|\n",
      "|  safe|       typo viawpjwb|yemeni civil war ...|        alistair1978|other usesyemen w...|other usesyemen w...|since the mid-200...|\n",
      "|unsafe|               empty|                2019|         annettespry|pp-protectedsmall...|pp-protectedsmall...|cameron boyce ame...|\n",
      "|  safe|2327 marchbroke p...|2020 stock market...|commonknowledgecr...|pp-vandalismsmall...|pp-vandalismsmall...|the bank of japan...|\n",
      "|  safe|               empty|united states men...|              phikia|filetschroederjpg...|filetschroederjpg...|goalkeepers with ...|\n",
      "+------+--------------------+--------------------+--------------------+--------------------+--------------------+--------------------+\n",
      "only showing top 5 rows\n",
      "\n",
      "+------+--------------------+--------------------+--------------------+--------------------+--------------------+--------------------+--------------------+\n",
      "| label|             comment|          title_page|           name_user|      clean_old_text|      clean_new_text|       removed_words|         added_words|\n",
      "+------+--------------------+--------------------+--------------------+--------------------+--------------------+--------------------+--------------------+\n",
      "|  safe|            map date|201920 coronaviru...|       raphal dunant|redirectcoronavir...|redirectcoronavir...|             [4, , ]|                [33]|\n",
      "|  safe|       typo viawpjwb|yemeni civil war ...|        alistair1978|other usesyemen w...|other usesyemen w...|[since, the, mid-...|[since, the, mid-...|\n",
      "|unsafe|               empty|                2019|         annettespry|pp-protectedsmall...|pp-protectedsmall...|[cameron, boyce, ...|             [empty]|\n",
      "|  safe|2327 marchbroke p...|2020 stock market...|commonknowledgecr...|pp-vandalismsmall...|pp-vandalismsmall...|[the, bank, of, j...|[, the, bank, of,...|\n",
      "|  safe|               empty|united states men...|              phikia|filetschroederjpg...|filetschroederjpg...|[goalkeepers, wit...|[goalkeepers, wit...|\n",
      "|  safe|             history|2020 coronavirus ...|          wikisaurus|pp-move-indefsmal...|pp-move-indefsmal...|             [empty]|             [empty]|\n",
      "|  safe|date formats perm...|       boris johnson|             alarics|redirectbojoother...|redirectbojoother...|[use, dmy, datesd...|[use, dmy, datesd...|\n",
      "|unsafe|               empty|         axis powers|26046000151382358...|short description...|short description...|[mainfascist, ita...|[mainkingdom, of,...|\n",
      "|  safe|               empty|united states men...|              phikia|this article cont...|this article cont...|[ma, ch, 30, 20, ...|[octobe, 5, 19, p...|\n",
      "|unsafe|               empty|      ottoman empire|          1062085273|pp-pc1short descr...|pp-pc1short descr...|[commonname, otto...|[commonname, otto...|\n",
      "+------+--------------------+--------------------+--------------------+--------------------+--------------------+--------------------+--------------------+\n",
      "only showing top 10 rows\n",
      "\n"
     ]
    }
   ],
   "source": [
    "%run \"preprocessing.ipynb\""
   ]
  },
  {
   "cell_type": "code",
   "execution_count": null,
   "metadata": {},
   "outputs": [],
   "source": [
    "# Manipulate data\n",
    "wiki_df = get_wiki_df(path=\"../data/subset/*\")\n",
    "\n",
    "clean_df = get_clean_df(wiki_df)\n",
    "df_with_difference = get_difference_column(clean_df)\n",
    "final_df = split_difference_into_removed_added(df_with_difference)\n",
    "final_df.show(3)"
   ]
  }
 ],
 "metadata": {
  "kernelspec": {
   "display_name": "Python 3",
   "language": "python",
   "name": "python3"
  },
  "language_info": {
   "codemirror_mode": {
    "name": "ipython",
    "version": 3
   },
   "file_extension": ".py",
   "mimetype": "text/x-python",
   "name": "python",
   "nbconvert_exporter": "python",
   "pygments_lexer": "ipython3",
   "version": "3.7.3"
  }
 },
 "nbformat": 4,
 "nbformat_minor": 4
}
