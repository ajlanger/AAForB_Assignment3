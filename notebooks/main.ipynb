{
 "cells": [
  {
   "cell_type": "markdown",
   "metadata": {},
   "source": [
    "<font size=\"6\">Main script to call functions from other scripts</font> "
   ]
  },
  {
   "cell_type": "markdown",
   "metadata": {},
   "source": [
    "#  Import libraries"
   ]
  },
  {
   "cell_type": "code",
   "execution_count": 12,
   "metadata": {
    "ExecuteTime": {
     "end_time": "2020-05-28T18:05:19.921432Z",
     "start_time": "2020-05-28T18:05:17.465099Z"
    }
   },
   "outputs": [],
   "source": [
    "# data manipulations\n",
    "import numpy as np\n",
    "import pandas as pd\n",
    "\n",
    "# pypark\n",
    "from pyspark.ml import PipelineModel  # to load the pipeline\n",
    "from threading import Thread\n",
    "from pyspark.streaming import StreamingContext\n",
    "\n",
    "# evaluation statistics\n",
    "from sklearn.metrics import confusion_matrix\n",
    "\n",
    "# performance evaluation\n",
    "from pyspark.ml.evaluation import MulticlassClassificationEvaluator\n",
    "from pyspark.mllib.evaluation import BinaryClassificationMetrics as metric\n",
    "from sklearn.metrics import confusion_matrix\n",
    "from sklearn.metrics import matthews_corrcoef\n",
    "from sklearn.metrics import cohen_kappa_score\n",
    "\n",
    "# visualize\n",
    "import matplotlib.pyplot as plt\n",
    "\n",
    "# own functions\n",
    "from functions.performance.metrics import plot_confusion_matrix "
   ]
  },
  {
   "cell_type": "code",
   "execution_count": 2,
   "metadata": {
    "ExecuteTime": {
     "end_time": "2020-05-28T18:05:27.573638Z",
     "start_time": "2020-05-28T18:05:27.352852Z"
    }
   },
   "outputs": [],
   "source": [
    "# when you change somehting in your own library (e.g. plot_confusion_matrix) it's automatically updated, you don't need to reimport\n",
    "%load_ext autoreload\n",
    "%autoreload 2"
   ]
  },
  {
   "cell_type": "markdown",
   "metadata": {},
   "source": [
    "# Global variables"
   ]
  },
  {
   "cell_type": "code",
   "execution_count": 3,
   "metadata": {
    "ExecuteTime": {
     "end_time": "2020-05-28T18:05:28.962967Z",
     "start_time": "2020-05-28T18:05:28.757368Z"
    }
   },
   "outputs": [
    {
     "name": "stdout",
     "output_type": "stream",
     "text": [
      "['bmh', 'classic', 'dark_background', 'fast', 'fivethirtyeight', 'ggplot', 'grayscale', 'seaborn-bright', 'seaborn-colorblind', 'seaborn-dark-palette', 'seaborn-dark', 'seaborn-darkgrid', 'seaborn-deep', 'seaborn-muted', 'seaborn-notebook', 'seaborn-paper', 'seaborn-pastel', 'seaborn-poster', 'seaborn-talk', 'seaborn-ticks', 'seaborn-white', 'seaborn-whitegrid', 'seaborn', 'Solarize_Light2', 'tableau-colorblind10', '_classic_test', '_classic_test_patch']\n"
     ]
    }
   ],
   "source": [
    "# avaialble plotting styles\n",
    "print(plt.style.available)\n",
    "plt.style.use('bmh')\n",
    "\n",
    "# global variables in CAPITAL letters\n",
    "PATH_LOAD_MODEL = \"../output/models/logistic_regression\"\n",
    "SAVE_PREDICTIONS = True # save predictions\n",
    "PATH_SAVE_PREDICTIONS = \"../../output/predictions/logistic_regression.parquet\" # where to save the predictions\n",
    "VERBOSE = True # print intermediate output"
   ]
  },
  {
   "cell_type": "markdown",
   "metadata": {},
   "source": [
    "# Get streaming instances"
   ]
  },
  {
   "cell_type": "code",
   "execution_count": 4,
   "metadata": {
    "ExecuteTime": {
     "end_time": "2020-05-28T18:05:30.800586Z",
     "start_time": "2020-05-28T18:05:30.577109Z"
    }
   },
   "outputs": [],
   "source": [
    "class StreamingThread(Thread):\n",
    "    def __init__(self, ssc):\n",
    "        Thread.__init__(self)\n",
    "        self.ssc = ssc\n",
    "    # Start stream\n",
    "    def run(self):\n",
    "        ssc.start()\n",
    "        ssc.awaitTermination()\n",
    "    # Stop stream\n",
    "    def stop(self):\n",
    "        print('----- Stopping... this may take a few seconds -----')\n",
    "        self.ssc.stop(stopSparkContext=False, stopGraceFully=True)"
   ]
  },
  {
   "cell_type": "markdown",
   "metadata": {},
   "source": [
    "#  Load Pipeline 1\n",
    "\n",
    "This pipeline cleans the data and get the data in the right format\n",
    "\n",
    "**TODO**\n",
    "\n",
    "```python\n",
    "instead of calling  %run \"pipeline1.ipynb\"  \n",
    "make a proper libary so we can call from functions.data_cleaning import pipeline1\n",
    "```\n",
    "for an example see \n",
    "\n",
    "```python \n",
    "from functions.performance.metrics import plot_confusion_matrix  \n",
    "```\n",
    "this is also a self defined library\n",
    "\n",
    "**Why?** now we have to uncomment code,  because we want to reuse the code in other notebooks,\n",
    "leaving it like this seems bit clumpsy"
   ]
  },
  {
   "cell_type": "code",
   "execution_count": 5,
   "metadata": {
    "ExecuteTime": {
     "end_time": "2020-05-28T18:05:35.157014Z",
     "start_time": "2020-05-28T18:05:33.602605Z"
    }
   },
   "outputs": [
    {
     "data": {
      "text/html": [
       "<style>.container { width:95% !important; }</style>"
      ],
      "text/plain": [
       "<IPython.core.display.HTML object>"
      ]
     },
     "metadata": {},
     "output_type": "display_data"
    }
   ],
   "source": [
    "# Initialize other notebooks\n",
    "%run \"pipeline1.ipynb\""
   ]
  },
  {
   "cell_type": "markdown",
   "metadata": {},
   "source": [
    "# Load Pipeline 2\n",
    "\n",
    "feature engineering steps and final prediction model"
   ]
  },
  {
   "cell_type": "code",
   "execution_count": 6,
   "metadata": {
    "ExecuteTime": {
     "end_time": "2020-05-28T18:06:09.199713Z",
     "start_time": "2020-05-28T18:05:37.415258Z"
    }
   },
   "outputs": [],
   "source": [
    "pipeline2 = PipelineModel.load(PATH_LOAD_MODEL)"
   ]
  },
  {
   "cell_type": "markdown",
   "metadata": {},
   "source": [
    "#  Full pipeline"
   ]
  },
  {
   "cell_type": "code",
   "execution_count": 7,
   "metadata": {
    "ExecuteTime": {
     "end_time": "2020-05-28T17:45:57.172306Z",
     "start_time": "2020-05-28T17:45:56.707644Z"
    }
   },
   "outputs": [],
   "source": [
    "def final_pipeline(time, rdd, save_predictions=SAVE_PREDICTIONS, path=PATH_SAVE_PREDICTIONS, verbose=VERBOSE):\n",
    "    \"\"\"\"\"\" \"\"\"\n",
    "    This function will serve as the construction pipeline.\n",
    "    Here all preprocessing functions need to be called and \n",
    "    need to be able to handle one wiki edit.\n",
    "    \"\"\" \"\"\"\"\"\"\n",
    "    if rdd.isEmpty():\n",
    "        return\n",
    "    if verbose:\n",
    "        print(\"========= %s =========\" % str(time))\n",
    "\n",
    "    # -------------------------------------------------------------------------\n",
    "    # 1) Pipeline 1: Mostly data cleaning and getting data in the right shape\n",
    "    # -------------------------------------------------------------------------\n",
    "    df = spark.read.json(rdd)\n",
    "    clean_df = get_clean_df(df)\n",
    "    df_with_difference = get_difference_column(clean_df)\n",
    "    final_df = split_difference_into_removed_added(df_with_difference)\n",
    "    \n",
    "    print(f\"Result after pipeline 1:\")\n",
    "    if verbose:\n",
    "        final_df.show(2)\n",
    "        \n",
    "    # ------------------------------------------------------------------------\n",
    "    # 2) Pipeline 2: Feature engineering, and Predicting\n",
    "    # ------------------------------------------------------------------------\n",
    "    predictions = pipeline2.transform(final_df)\n",
    "    print(\"Result after pipeline 2 (predictions):\")\n",
    "    if verbose:\n",
    "        predictions.select(['target', 'label', 'prediction','probability']).show(2)\n",
    "    # save predictions\n",
    "    if save_predictions: \n",
    "        print(f\"saving predictions of batch in: {path}\")\n",
    "        predictions.write.mode(\"append\").save(path)\n",
    "        "
   ]
  },
  {
   "cell_type": "markdown",
   "metadata": {},
   "source": [
    "# Begin online stream and make prediction per wiki edit"
   ]
  },
  {
   "cell_type": "code",
   "execution_count": 8,
   "metadata": {
    "ExecuteTime": {
     "end_time": "2020-05-28T17:46:01.711787Z",
     "start_time": "2020-05-28T17:46:01.242844Z"
    }
   },
   "outputs": [],
   "source": [
    "ssc = StreamingContext(sc, 10) # Get minibatches every 10 seconds"
   ]
  },
  {
   "cell_type": "code",
   "execution_count": 9,
   "metadata": {
    "ExecuteTime": {
     "end_time": "2020-05-28T17:46:06.111339Z",
     "start_time": "2020-05-28T17:46:05.588475Z"
    }
   },
   "outputs": [],
   "source": [
    "lines = ssc.socketTextStream(\"seppe.net\", 7778)\n",
    "lines.foreachRDD(final_pipeline)"
   ]
  },
  {
   "cell_type": "code",
   "execution_count": 10,
   "metadata": {
    "ExecuteTime": {
     "end_time": "2020-05-28T17:46:08.141947Z",
     "start_time": "2020-05-28T17:46:07.875418Z"
    }
   },
   "outputs": [
    {
     "name": "stdout",
     "output_type": "stream",
     "text": [
      "========= 2020-05-28 20:15:40 =========\n",
      "Result after pipeline 1:\n",
      "+------+--------------------+-------------+----------+--------------------+--------------------+-------------+--------------------+\n",
      "| label|             comment|   title_page| name_user|      clean_old_text|      clean_new_text|removed_words|         added_words|\n",
      "+------+--------------------+-------------+----------+--------------------+--------------------+-------------+--------------------+\n",
      "|unsafe|undid revision 95...|wearside jack|martintype|use british engli...|use british engli...|      [y, , ]|                 [i]|\n",
      "|  safe|       double spaces|castine maine|     kidad|infobox settlemen...|infobox settlemen...|      [empty]|[, united, states...|\n",
      "+------+--------------------+-------------+----------+--------------------+--------------------+-------------+--------------------+\n",
      "only showing top 2 rows\n",
      "\n",
      "Result after pipeline 2 (predictions):\n",
      "+------+------+----------+--------------------+\n",
      "|target| label|prediction|         probability|\n",
      "+------+------+----------+--------------------+\n",
      "|   1.0|unsafe|       1.0|[0.06664144226926...|\n",
      "|   0.0|  safe|       0.0|[0.70237049329022...|\n",
      "+------+------+----------+--------------------+\n",
      "only showing top 2 rows\n",
      "\n",
      "saving predictions of batch in: ../../output/predictions/logistic_regression.parquet\n",
      "========= 2020-05-28 20:15:50 =========\n"
     ]
    }
   ],
   "source": [
    "ssc_t = StreamingThread(ssc)\n",
    "ssc_t.start()"
   ]
  },
  {
   "cell_type": "code",
   "execution_count": 11,
   "metadata": {
    "ExecuteTime": {
     "end_time": "2020-05-28T17:50:37.121829Z",
     "start_time": "2020-05-28T17:46:56.650612Z"
    }
   },
   "outputs": [
    {
     "name": "stdout",
     "output_type": "stream",
     "text": [
      "----- Stopping... this may take a few seconds -----\n",
      "Result after pipeline 1:\n",
      "+-----+--------------------+------------+------------+--------------------+--------------------+--------------------+--------------------+\n",
      "|label|             comment|  title_page|   name_user|      clean_old_text|      clean_new_text|       removed_words|         added_words|\n",
      "+-----+--------------------+------------+------------+--------------------+--------------------+--------------------+--------------------+\n",
      "| safe|original the majo...|nuclear gene|      cs0218|a '''nuclear gene...|a '''nuclear gene...|[the, majority, o...|[the, majority, o...|\n",
      "| safe| other charted songs|    txt band|rockysmile11|short description...|short description...|             [empty]|             [empty]|\n",
      "+-----+--------------------+------------+------------+--------------------+--------------------+--------------------+--------------------+\n",
      "only showing top 2 rows\n",
      "\n",
      "Result after pipeline 2 (predictions):\n",
      "+------+-----+----------+--------------------+\n",
      "|target|label|prediction|         probability|\n",
      "+------+-----+----------+--------------------+\n",
      "|   0.0| safe|       0.0|[0.70719488595329...|\n",
      "|   0.0| safe|       1.0|[0.26028493398184...|\n",
      "+------+-----+----------+--------------------+\n",
      "only showing top 2 rows\n",
      "\n",
      "saving predictions of batch in: ../../output/predictions/logistic_regression.parquet\n",
      "========= 2020-05-28 20:16:00 =========\n",
      "Result after pipeline 1:\n",
      "+------+--------------+--------------+--------------------+--------------------+--------------------+--------------------+--------------------+\n",
      "| label|       comment|    title_page|           name_user|      clean_old_text|      clean_new_text|       removed_words|         added_words|\n",
      "+------+--------------+--------------+--------------------+--------------------+--------------------+--------------------+--------------------+\n",
      "|  safe|      clean up|gabug township|      caradhrasaiguo|infobox settlemen...|infobox settlemen...|[name, gabug, oth...|[officialname, ga...|\n",
      "|unsafe|symbolic value|chinese dragon|26006c676c7fb8eee...|redirectloongthe ...|redirectloongthe ...|           [ion, , ]|                [ed]|\n",
      "+------+--------------+--------------+--------------------+--------------------+--------------------+--------------------+--------------------+\n",
      "only showing top 2 rows\n",
      "\n",
      "Result after pipeline 2 (predictions):\n",
      "+------+------+----------+--------------------+\n",
      "|target| label|prediction|         probability|\n",
      "+------+------+----------+--------------------+\n",
      "|   0.0|  safe|       0.0|[0.80612385422195...|\n",
      "|   1.0|unsafe|       1.0|[0.17970871584345...|\n",
      "+------+------+----------+--------------------+\n",
      "only showing top 2 rows\n",
      "\n",
      "saving predictions of batch in: ../../output/predictions/logistic_regression.parquet\n",
      "========= 2020-05-28 20:16:10 =========\n",
      "Result after pipeline 1:\n",
      "+-----+--------------------+-----------------+---------+--------------------+--------------------+-------------+--------------------+\n",
      "|label|             comment|       title_page|name_user|      clean_old_text|      clean_new_text|removed_words|         added_words|\n",
      "+-----+--------------------+-----------------+---------+--------------------+--------------------+-------------+--------------------+\n",
      "| safe|               empty|psyche spacecraft|ionmars10|short description...|short description...|      [empty]|[use, mdy, datesd...|\n",
      "| safe|removed unnecessa...|       kingswells| mamulade|use dmy datesdate...|use dmy datesdate...|      [empty]|             [empty]|\n",
      "+-----+--------------------+-----------------+---------+--------------------+--------------------+-------------+--------------------+\n",
      "\n",
      "Result after pipeline 2 (predictions):\n",
      "+------+-----+----------+--------------------+\n",
      "|target|label|prediction|         probability|\n",
      "+------+-----+----------+--------------------+\n",
      "|   0.0| safe|       1.0|[0.40348509997999...|\n",
      "|   0.0| safe|       0.0|[0.82610657716130...|\n",
      "+------+-----+----------+--------------------+\n",
      "\n",
      "saving predictions of batch in: ../../output/predictions/logistic_regression.parquet\n",
      "========= 2020-05-28 20:16:20 =========\n",
      "Result after pipeline 1:\n",
      "+-----+-------+--------------------+--------------+--------------------+--------------------+--------------------+--------------------+\n",
      "|label|comment|          title_page|     name_user|      clean_old_text|      clean_new_text|       removed_words|         added_words|\n",
      "+-----+-------+--------------------+--------------+--------------------+--------------------+--------------------+--------------------+\n",
      "| safe|  empty|the river to rive...|artshappenhere|unreferenceddatef...|unreferenceddatef...|[s, wo, , a, , ew...|[was, nominated, ...|\n",
      "| safe|  empty|jason ward natura...|          megs|infobox person na...|infobox person na...|             [empty]|             [thumb]|\n",
      "+-----+-------+--------------------+--------------+--------------------+--------------------+--------------------+--------------------+\n",
      "only showing top 2 rows\n",
      "\n",
      "Result after pipeline 2 (predictions):\n",
      "+------+-----+----------+--------------------+\n",
      "|target|label|prediction|         probability|\n",
      "+------+-----+----------+--------------------+\n",
      "|   0.0| safe|       1.0|[0.36892494861495...|\n",
      "|   0.0| safe|       1.0|[0.31560557020675...|\n",
      "+------+-----+----------+--------------------+\n",
      "only showing top 2 rows\n",
      "\n",
      "saving predictions of batch in: ../../output/predictions/logistic_regression.parquet\n",
      "========= 2020-05-28 20:16:30 =========\n",
      "Result after pipeline 1:\n",
      "+-----+-------------+--------------------+-------------+--------------------+--------------------+--------------------+-----------+\n",
      "|label|      comment|          title_page|    name_user|      clean_old_text|      clean_new_text|       removed_words|added_words|\n",
      "+-----+-------------+--------------------+-------------+--------------------+--------------------+--------------------+-----------+\n",
      "| safe|    add image|tower 2012 canadi...|bovineboy2008|infobox film name...|infobox film name...|[image, tower, 20...|    [image]|\n",
      "| safe|more specific|        khalid kaabi|  interanthro|infobox football ...|infobox football ...|         [w, ng, , ]|[m, dfield]|\n",
      "+-----+-------------+--------------------+-------------+--------------------+--------------------+--------------------+-----------+\n",
      "only showing top 2 rows\n",
      "\n",
      "Result after pipeline 2 (predictions):\n",
      "+------+-----+----------+--------------------+\n",
      "|target|label|prediction|         probability|\n",
      "+------+-----+----------+--------------------+\n",
      "|   0.0| safe|       0.0|[0.77215637998999...|\n",
      "|   0.0| safe|       0.0|[0.69266540764690...|\n",
      "+------+-----+----------+--------------------+\n",
      "only showing top 2 rows\n",
      "\n",
      "saving predictions of batch in: ../../output/predictions/logistic_regression.parquet\n",
      "========= 2020-05-28 20:16:40 =========\n",
      "Result after pipeline 1:\n",
      "+------+-------+----------+---------+--------------------+--------------------+--------------------+--------------------+\n",
      "| label|comment|title_page|name_user|      clean_old_text|      clean_new_text|       removed_words|         added_words|\n",
      "+------+-------+----------+---------+--------------------+--------------------+--------------------+--------------------+\n",
      "|unsafe|  empty|      mooo|954979251|short description...|short description...|[hatnotemooo, red...|[redirectmooothe,...|\n",
      "+------+-------+----------+---------+--------------------+--------------------+--------------------+--------------------+\n",
      "\n",
      "Result after pipeline 2 (predictions):\n",
      "+------+------+----------+--------------------+\n",
      "|target| label|prediction|         probability|\n",
      "+------+------+----------+--------------------+\n",
      "|   1.0|unsafe|       1.0|[0.41692230614675...|\n",
      "+------+------+----------+--------------------+\n",
      "\n",
      "saving predictions of batch in: ../../output/predictions/logistic_regression.parquet\n"
     ]
    }
   ],
   "source": [
    "ssc_t.stop()"
   ]
  },
  {
   "cell_type": "markdown",
   "metadata": {},
   "source": [
    "# Check how we performed on the live data\n",
    "\n",
    "**useful resources:**\n",
    " - https://runawayhorse001.github.io/LearningApacheSpark/classification.html\n",
    "\n",
    "**TODO**\n",
    "- look at other scoring metrics for imbalanced data:\n",
    "    - e.g. Matthews correlation coefficient (MCC)  ==> I think this is one of the best metrics for imbalanced data\n",
    "    - Cohen's kappa statistic\n",
    "    - F1 score\n",
    "    - ..."
   ]
  },
  {
   "cell_type": "code",
   "execution_count": 12,
   "metadata": {
    "ExecuteTime": {
     "end_time": "2020-05-28T17:53:00.708182Z",
     "start_time": "2020-05-28T17:52:59.191690Z"
    }
   },
   "outputs": [
    {
     "name": "stdout",
     "output_type": "stream",
     "text": [
      "+------+------+----------+\n",
      "| label|target|prediction|\n",
      "+------+------+----------+\n",
      "|  safe|   0.0|       0.0|\n",
      "|  safe|   0.0|       0.0|\n",
      "|  safe|   1.0|       2.0|\n",
      "|  safe|   0.0|       1.0|\n",
      "|unsafe|   1.0|       1.0|\n",
      "+------+------+----------+\n",
      "only showing top 5 rows\n",
      "\n"
     ]
    }
   ],
   "source": [
    "# load predictions from live data\n",
    "predictions_live = spark.read.parquet(PATH_SAVE_PREDICTIONS)\n",
    "predictions_live.select(['label','target','prediction']).show(5)"
   ]
  },
  {
   "cell_type": "markdown",
   "metadata": {},
   "source": [
    "## This is used for decoding the numeric predictions values back to the original labels"
   ]
  },
  {
   "cell_type": "code",
   "execution_count": 13,
   "metadata": {
    "ExecuteTime": {
     "end_time": "2020-05-28T17:53:13.015860Z",
     "start_time": "2020-05-28T17:53:10.185514Z"
    }
   },
   "outputs": [
    {
     "name": "stdout",
     "output_type": "stream",
     "text": [
      "{0: 'safe', 1: 'unsafe', 2: 'vandal'}\n"
     ]
    }
   ],
   "source": [
    "label_str = list(predictions_live.select(\"label\").toPandas()['label'].unique())\n",
    "label_num = [0,1,2]\n",
    "map_num_2_str = dictionary = dict(zip(label_num, label_str))\n",
    "print(map_num_2_str)"
   ]
  },
  {
   "cell_type": "markdown",
   "metadata": {},
   "source": [
    "## A) Confusion Matrix"
   ]
  },
  {
   "cell_type": "code",
   "execution_count": 14,
   "metadata": {
    "ExecuteTime": {
     "end_time": "2020-05-28T17:53:19.334369Z",
     "start_time": "2020-05-28T17:53:15.406766Z"
    }
   },
   "outputs": [
    {
     "data": {
      "text/html": [
       "<div>\n",
       "<style scoped>\n",
       "    .dataframe tbody tr th:only-of-type {\n",
       "        vertical-align: middle;\n",
       "    }\n",
       "\n",
       "    .dataframe tbody tr th {\n",
       "        vertical-align: top;\n",
       "    }\n",
       "\n",
       "    .dataframe thead th {\n",
       "        text-align: right;\n",
       "    }\n",
       "</style>\n",
       "<table border=\"1\" class=\"dataframe\">\n",
       "  <thead>\n",
       "    <tr style=\"text-align: right;\">\n",
       "      <th></th>\n",
       "      <th>safe</th>\n",
       "      <th>unsafe</th>\n",
       "      <th>vandal</th>\n",
       "    </tr>\n",
       "  </thead>\n",
       "  <tbody>\n",
       "    <tr>\n",
       "      <th>safe</th>\n",
       "      <td>137</td>\n",
       "      <td>101</td>\n",
       "      <td>3</td>\n",
       "    </tr>\n",
       "    <tr>\n",
       "      <th>unsafe</th>\n",
       "      <td>12</td>\n",
       "      <td>14</td>\n",
       "      <td>0</td>\n",
       "    </tr>\n",
       "    <tr>\n",
       "      <th>vandal</th>\n",
       "      <td>4</td>\n",
       "      <td>0</td>\n",
       "      <td>0</td>\n",
       "    </tr>\n",
       "  </tbody>\n",
       "</table>\n",
       "</div>"
      ],
      "text/plain": [
       "        safe  unsafe  vandal\n",
       "safe     137     101       3\n",
       "unsafe    12      14       0\n",
       "vandal     4       0       0"
      ]
     },
     "execution_count": 14,
     "metadata": {},
     "output_type": "execute_result"
    }
   ],
   "source": [
    "class_names = label_str\n",
    "y_true = predictions_live.select(\"label\").toPandas()\n",
    "y_pred = predictions_live.select(\"prediction\").toPandas()\n",
    "y_pred = y_pred['prediction'].map(map_num_2_str, na_action='ignore')\n",
    "\n",
    "# make confusion matrix\n",
    "cnf_matrix = confusion_matrix(y_true=y_true, y_pred=y_pred, labels=class_names)\n",
    "pd.DataFrame(cnf_matrix, columns=class_names, index=class_names)"
   ]
  },
  {
   "cell_type": "code",
   "execution_count": 17,
   "metadata": {
    "ExecuteTime": {
     "end_time": "2020-05-28T17:59:24.132411Z",
     "start_time": "2020-05-28T17:59:23.313459Z"
    },
    "scrolled": true
   },
   "outputs": [
    {
     "name": "stdout",
     "output_type": "stream",
     "text": [
      "Confusion matrix, without normalization\n",
      "        safe  unsafe  vandal\n",
      "safe     137     101       3\n",
      "unsafe    12      14       0\n",
      "vandal     4       0       0\n"
     ]
    },
    {
     "data": {
      "image/png": "[encoded data removed]",
      "text/plain": [
       "<Figure size 432x288 with 2 Axes>"
      ]
     },
     "metadata": {
      "needs_background": "light"
     },
     "output_type": "display_data"
    }
   ],
   "source": [
    "# Plot non-normalized confusion matrix\n",
    "plt.figure()\n",
    "plot_confusion_matrix(cnf_matrix, classes=class_names, normalize=False,\n",
    "                      title='Confusion matrix, without normalization')\n",
    "\n",
    "# I need to fix this manually, we should fix this in the future (this look bit clumpsy)\n",
    "#plt.yticks([2.5,2,1.5,1,0.5,0,-.5], labels=[\"\",label_str[2],\"\",label_str[1],\"\",label_str[0]]);"
   ]
  },
  {
   "cell_type": "markdown",
   "metadata": {},
   "source": [
    "## 8.2 Summary metrics\n",
    "\n",
    "**TODO**\n",
    "- look at other scoring metrics for imbalanced data:\n",
    "    - e.g. Matthews correlation coefficient (MCC)  ==> I think this is one of the best metrics for imbalanced data\n",
    "    - Cohen's kappa statistic\n",
    "    - F1 score\n",
    "    - ..."
   ]
  },
  {
   "cell_type": "code",
   "execution_count": 18,
   "metadata": {
    "ExecuteTime": {
     "end_time": "2020-05-28T18:00:29.536276Z",
     "start_time": "2020-05-28T18:00:22.574172Z"
    }
   },
   "outputs": [
    {
     "name": "stdout",
     "output_type": "stream",
     "text": [
      "F1 score: 0.5228\n"
     ]
    }
   ],
   "source": [
    "# F1 score\n",
    "evaluator = MulticlassClassificationEvaluator(\n",
    "    predictionCol=\"prediction\", labelCol='target', metricName=\"f1\")\n",
    "print(f\"F1 score: {round(evaluator.evaluate(predictions_live), 4)}\")"
   ]
  },
  {
   "cell_type": "code",
   "execution_count": 9,
   "metadata": {
    "ExecuteTime": {
     "end_time": "2020-05-08T01:21:22.920495Z",
     "start_time": "2020-05-08T01:21:22.684776Z"
    }
   },
   "outputs": [
    {
     "name": "stdout",
     "output_type": "stream",
     "text": [
      " MCC: 0.033243370938571194\n",
      " Kappa: 0.022152223781970126\n"
     ]
    }
   ],
   "source": [
    "# mcc and kappa\n",
    "mcc = matthews_corrcoef(y_true, y_pred)\n",
    "kappa = cohen_kappa_score(y_true, y_pred)\n",
    "\n",
    "print(f\" MCC: {mcc}\")\n",
    "print(f\" Kappa: {kappa}\")"
   ]
  },
  {
   "cell_type": "code",
   "execution_count": 10,
   "metadata": {
    "ExecuteTime": {
     "end_time": "2020-05-08T01:21:37.748353Z",
     "start_time": "2020-05-08T01:21:25.707114Z"
    }
   },
   "outputs": [
    {
     "name": "stdout",
     "output_type": "stream",
     "text": [
      "Area under ROC score is :  0.5722\n"
     ]
    }
   ],
   "source": [
    "# AUC\n",
    "results = predictions_live.select(['probability', 'target'])\n",
    "# prepare score-label set\n",
    "results_collect = results.collect()\n",
    "results_list = [(float(i[0][0]), 1.0-float(i[1])) for i in results_collect]\n",
    "scoreAndLabels = sc.parallelize(results_list)\n",
    "\n",
    "metrics = metric(scoreAndLabels)\n",
    "print(\"Area under ROC score is : \", round(metrics.areaUnderROC,4))"
   ]
  }
 ],
 "metadata": {
  "kernelspec": {
   "display_name": "Python 3",
   "language": "python",
   "name": "python3"
  },
  "language_info": {
   "codemirror_mode": {
    "name": "ipython",
    "version": 3
   },
   "file_extension": ".py",
   "mimetype": "text/x-python",
   "name": "python",
   "nbconvert_exporter": "python",
   "pygments_lexer": "ipython3",
   "version": "3.7.3"
  },
  "toc": {
   "base_numbering": 1,
   "nav_menu": {},
   "number_sections": true,
   "sideBar": true,
   "skip_h1_title": false,
   "title_cell": "Table of Contents",
   "title_sidebar": "Contents",
   "toc_cell": false,
   "toc_position": {},
   "toc_section_display": true,
   "toc_window_display": true
  },
  "varInspector": {
   "cols": {
    "lenName": 16,
    "lenType": 16,
    "lenVar": 40
   },
   "kernels_config": {
    "python": {
     "delete_cmd_postfix": "",
     "delete_cmd_prefix": "del ",
     "library": "var_list.py",
     "varRefreshCmd": "print(var_dic_list())"
    },
    "r": {
     "delete_cmd_postfix": ") ",
     "delete_cmd_prefix": "rm(",
     "library": "var_list.r",
     "varRefreshCmd": "cat(var_dic_list()) "
    }
   },
   "types_to_exclude": [
    "module",
    "function",
    "builtin_function_or_method",
    "instance",
    "_Feature"
   ],
   "window_display": false
  }
 },
 "nbformat": 4,
 "nbformat_minor": 4
}
