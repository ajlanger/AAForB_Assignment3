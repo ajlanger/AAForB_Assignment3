{
 "cells": [
  {
   "cell_type": "markdown",
   "metadata": {},
   "source": [
    "# Main script to call functions from other scripts"
   ]
  },
  {
   "cell_type": "code",
   "execution_count": null,
   "metadata": {},
   "outputs": [],
   "source": [
    "# Import libraries"
   ]
  },
  {
   "cell_type": "code",
   "execution_count": 9,
   "metadata": {},
   "outputs": [
    {
     "data": {
      "text/html": [
       "<style>.container { width:95% !important; }</style>"
      ],
      "text/plain": [
       "<IPython.core.display.HTML object>"
      ]
     },
     "metadata": {},
     "output_type": "display_data"
    }
   ],
   "source": [
    "# Initialize other notebooks\n",
    "# ------------ Initialize preprocessing script\n",
    "%run \"preprocessing.ipynb\""
   ]
  },
  {
   "cell_type": "code",
   "execution_count": 10,
   "metadata": {},
   "outputs": [
    {
     "name": "stdout",
     "output_type": "stream",
     "text": [
      "root\n",
      " |-- comment: string (nullable = true)\n",
      " |-- label: string (nullable = true)\n",
      " |-- name_user: string (nullable = true)\n",
      " |-- text_new: string (nullable = true)\n",
      " |-- text_old: string (nullable = true)\n",
      " |-- title_page: string (nullable = true)\n",
      " |-- url_page: string (nullable = true)\n",
      "\n",
      "+------+--------+\n",
      "| label|count(1)|\n",
      "+------+--------+\n",
      "|  safe|   30333|\n",
      "|unsafe|    4136|\n",
      "|vandal|     270|\n",
      "+------+--------+\n",
      "\n"
     ]
    }
   ],
   "source": [
    "wiki_df = get_wiki_df()\n",
    "get_label_count(wiki_df)"
   ]
  },
  {
   "cell_type": "markdown",
   "metadata": {},
   "source": [
    "## Full pipeline\n",
    "Extracting edited part --> Lemmatization, stemming and removing stopwords --> TF-IDF --> Feed to model --> Return prediction"
   ]
  },
  {
   "cell_type": "code",
   "execution_count": 14,
   "metadata": {},
   "outputs": [],
   "source": [
    "globals()['models_loaded'] = False\n",
    "\n",
    "# ------------ Replace this with a trained ML model\n",
    "def predict(df):\n",
    "    if any([x in df.diff.lower() for x in ['bad', 'lol', 'joke']]):\n",
    "        return 'vandal'\n",
    "    else:\n",
    "        return 'safe'\n",
    "# ------------ Replace this with a trained ML model\n",
    "\n",
    "predict_udf = udf(predict, StringType())\n",
    "\n",
    "def process(time, rdd):\n",
    "    \"\"\"\"\"\"\"\"\"\n",
    "    This function will serve as the construction pipeline.\n",
    "    Here all preprocessing functions need to be called and \n",
    "    need to be able to handle one wiki edit.\n",
    "    \"\"\"\"\"\"\"\"\"\n",
    "    if rdd.isEmpty():\n",
    "        return\n",
    "    \n",
    "    print(\"========= %s =========\" % str(time))\n",
    "    \n",
    "    # Convert to data frame\n",
    "    df = spark.read.json(rdd)\n",
    "    df.show()\n",
    "    \n",
    "    \n",
    "    # Apply make_diff function\n",
    "    diff = make_diff(df.first().text_old, df.first().text_new)\n",
    "    df_withdiff = df.withColumn(\"diff\", lit(diff))\n",
    "    df_withdiff.select('diff').show()\n",
    "    \n",
    "#     # Utilize our predict function\n",
    "#     df_withpreds = df_withdiff.withColumn(\"pred\", predict_udf(\n",
    "#         struct([df_withdiff[x] for x in df_withdiff.columns])\n",
    "#     ))\n",
    "#     df_withpreds.show()\n",
    "    \n",
    "#     # Normally, you wouldn't use a UDF (User Defined Function) Python function to predict (you can)\n",
    "#     # But an MLlib model you've built and saved with Spark\n",
    "#     # In this case, you need to prevent loading your model in every call to \"process\" as follows:\n",
    "    \n",
    "#     # Load in the model if not yet loaded:\n",
    "#     if not globals()['models_loaded']:\n",
    "#         # load in your models here\n",
    "#         globals()['my_model'] = '***' # Replace '***' with:    [...].load('my_logistic_regression')\n",
    "#         globals()['models_loaded'] = True\n",
    "        \n",
    "#     # And then predict using the loaded model: \n",
    "#     # df_result = globals()['my_model'].transform(df)\n",
    "#     # df_result.show()"
   ]
  },
  {
   "cell_type": "markdown",
   "metadata": {},
   "source": [
    "## Begin online stream and make prediction per wiki edit"
   ]
  },
  {
   "cell_type": "code",
   "execution_count": 15,
   "metadata": {},
   "outputs": [
    {
     "name": "stdout",
     "output_type": "stream",
     "text": [
      "========= 2020-04-21 21:50:10 =========\n",
      "+--------------------+-----+-----------+--------------------+--------------------+-------------+--------------------+\n",
      "|             comment|label|  name_user|            text_new|            text_old|   title_page|            url_page|\n",
      "+--------------------+-----+-----------+--------------------+--------------------+-------------+--------------------+\n",
      "|clean up, rm extr...| safe|Kaltenmeyer|{{about|the compa...|{{about|the compa...|Faber-Castell|//en.wikipedia.or...|\n",
      "+--------------------+-----+-----------+--------------------+--------------------+-------------+--------------------+\n",
      "\n",
      "+--------------------+\n",
      "|                diff|\n",
      "+--------------------+\n",
      "|--- \n",
      "\n",
      "+++ \n",
      "\n",
      "-File...|\n",
      "+--------------------+\n",
      "\n",
      "========= 2020-04-21 21:50:20 =========\n",
      "+--------------------+------+--------------------+--------------------+--------------------+--------------------+--------------------+\n",
      "|             comment| label|           name_user|            text_new|            text_old|          title_page|            url_page|\n",
      "+--------------------+------+--------------------+--------------------+--------------------+--------------------+--------------------+\n",
      "|       Updated link.|  safe|      Redrobinhood89|{{short descripti...|{{short descripti...|            Ilkeston|//en.wikipedia.or...|\n",
      "|                    |unsafe|          73.1.158.7|{{short descripti...|{{short descripti...|        Grant Delpit|//en.wikipedia.or...|\n",
      "|                    |unsafe|2602:306:cec2:d3e...|{{Infobox person\n",
      "...|{{Infobox person\n",
      "...| Elizabeth Bartholet|//en.wikipedia.or...|\n",
      "|Changes to the nu...|  safe|           MaxWBooth|{{Other ships|HMS...|{{Other ships|HMS...|HMS Queen Elizabe...|//en.wikipedia.or...|\n",
      "+--------------------+------+--------------------+--------------------+--------------------+--------------------+--------------------+\n",
      "\n",
      "+--------------------+\n",
      "|                diff|\n",
      "+--------------------+\n",
      "|--- \n",
      "\n",
      "+++ \n",
      "\n",
      "-Stee...|\n",
      "|--- \n",
      "\n",
      "+++ \n",
      "\n",
      "-Stee...|\n",
      "|--- \n",
      "\n",
      "+++ \n",
      "\n",
      "-Stee...|\n",
      "|--- \n",
      "\n",
      "+++ \n",
      "\n",
      "-Stee...|\n",
      "+--------------------+\n",
      "\n",
      "========= 2020-04-21 21:50:30 =========\n",
      "+-------------------+-----+-----------+--------------------+--------------------+--------------------+--------------------+\n",
      "|            comment|label|  name_user|            text_new|            text_old|          title_page|            url_page|\n",
      "+-------------------+-----+-----------+--------------------+--------------------+--------------------+--------------------+\n",
      "|→‎Advanced training| safe|Gyrene23sta|{{about|a militar...|{{about|a militar...|Radio Reconnaissa...|//en.wikipedia.or...|\n",
      "+-------------------+-----+-----------+--------------------+--------------------+--------------------+--------------------+\n",
      "\n",
      "+--------------------+\n",
      "|                diff|\n",
      "+--------------------+\n",
      "|--- \n",
      "\n",
      "+++ \n",
      "\n",
      "-* [[...|\n",
      "+--------------------+\n",
      "\n",
      "========= 2020-04-21 21:50:40 =========\n",
      "+--------------------+------+----------------+--------------------+--------------------+--------------------+--------------------+\n",
      "|             comment| label|       name_user|            text_new|            text_old|          title_page|            url_page|\n",
      "+--------------------+------+----------------+--------------------+--------------------+--------------------+--------------------+\n",
      "|            fix date|  safe|      Neutrality|{{Use dmy dates|d...|{{Use dmy dates|d...|2019–20 Western L...|//en.wikipedia.or...|\n",
      "|                    |unsafe|Vladimir Skokan1|{{short descripti...|{{short descripti...|  Kingdom of Hungary|//en.wikipedia.or...|\n",
      "|Fixed political p...|  safe|        SmartMow|{{short descripti...|{{short descripti...|        Laura Loomer|//en.wikipedia.or...|\n",
      "+--------------------+------+----------------+--------------------+--------------------+--------------------+--------------------+\n",
      "\n",
      "+--------------------+\n",
      "|                diff|\n",
      "+--------------------+\n",
      "|--- \n",
      "\n",
      "+++ \n",
      "\n",
      "-A UN...|\n",
      "|--- \n",
      "\n",
      "+++ \n",
      "\n",
      "-A UN...|\n",
      "|--- \n",
      "\n",
      "+++ \n",
      "\n",
      "-A UN...|\n",
      "+--------------------+\n",
      "\n",
      "========= 2020-04-21 21:50:50 =========\n"
     ]
    }
   ],
   "source": [
    "# Start the prediction task\n",
    "ssc = StreamingContext(sc, 10) # ---------------------> Get minibatches every 10 seconds\n",
    "lines = ssc.socketTextStream(\"seppe.net\", 7778)\n",
    "lines.foreachRDD(process) # --------------------------> Perform the function 'process' on every RDD\n",
    "ssc_t = StreamingThread(ssc)\n",
    "ssc_t.start()"
   ]
  },
  {
   "cell_type": "code",
   "execution_count": 16,
   "metadata": {},
   "outputs": [
    {
     "name": "stdout",
     "output_type": "stream",
     "text": [
      "----- Stopping... this may take a few seconds -----\n",
      "+--------------------+------+--------------+--------------------+--------------------+--------------------+--------------------+\n",
      "|             comment| label|     name_user|            text_new|            text_old|          title_page|            url_page|\n",
      "+--------------------+------+--------------+--------------------+--------------------+--------------------+--------------------+\n",
      "|→‎Google Translat...|  safe|  Oneillge2029|{{short descripti...|{{short descripti...|List of Google Ap...|//en.wikipedia.or...|\n",
      "|                    |unsafe|103.251.143.82|{{short descripti...|{{short descripti...|         Kuiper belt|//en.wikipedia.or...|\n",
      "|       Remove spaces|  safe|    Anypodetos|{{about||other us...|{{about||other us...|              Gadget|//en.wikipedia.or...|\n",
      "|                    |  safe|  Marquardtika|{{NPOV|date=March...|{{NPOV|date=March...|    Charlotte Clymer|//en.wikipedia.or...|\n",
      "+--------------------+------+--------------+--------------------+--------------------+--------------------+--------------------+\n",
      "\n",
      "+--------------------+\n",
      "|                diff|\n",
      "+--------------------+\n",
      "|--- \n",
      "\n",
      "+++ \n",
      "\n",
      "-Goog...|\n",
      "|--- \n",
      "\n",
      "+++ \n",
      "\n",
      "-Goog...|\n",
      "|--- \n",
      "\n",
      "+++ \n",
      "\n",
      "-Goog...|\n",
      "|--- \n",
      "\n",
      "+++ \n",
      "\n",
      "-Goog...|\n",
      "+--------------------+\n",
      "\n",
      "========= 2020-04-21 21:51:00 =========\n",
      "+--------------------+-----+-------------+--------------------+--------------------+--------------------+--------------------+\n",
      "|             comment|label|    name_user|            text_new|            text_old|          title_page|            url_page|\n",
      "+--------------------+-----+-------------+--------------------+--------------------+--------------------+--------------------+\n",
      "|                    | safe|Nickfromfargo|{{Short descripti...|{{Short descripti...|Lisa K. Fair McEvers|//en.wikipedia.or...|\n",
      "|→‎Recent events:u...| safe|Iggy the Swan|{{other uses}}\n",
      "{{...|{{other uses}}\n",
      "{{...|      Peter Frampton|//en.wikipedia.or...|\n",
      "+--------------------+-----+-------------+--------------------+--------------------+--------------------+--------------------+\n",
      "\n",
      "+--------------------+\n",
      "|                diff|\n",
      "+--------------------+\n",
      "|--- \n",
      "\n",
      "+++ \n",
      "\n",
      "-==Ea...|\n",
      "|--- \n",
      "\n",
      "+++ \n",
      "\n",
      "-==Ea...|\n",
      "+--------------------+\n",
      "\n"
     ]
    }
   ],
   "source": [
    "# Stop the prediction task\n",
    "ssc_t.stop()"
   ]
  }
 ],
 "metadata": {
  "kernelspec": {
   "display_name": "Python_thesis",
   "language": "python",
   "name": "python3"
  },
  "language_info": {
   "codemirror_mode": {
    "name": "ipython",
    "version": 3
   },
   "file_extension": ".py",
   "mimetype": "text/x-python",
   "name": "python",
   "nbconvert_exporter": "python",
   "pygments_lexer": "ipython3",
   "version": "3.7.4"
  }
 },
 "nbformat": 4,
 "nbformat_minor": 4
}
