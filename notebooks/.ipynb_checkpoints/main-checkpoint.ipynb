{
 "cells": [
  {
   "cell_type": "markdown",
   "metadata": {},
   "source": [
    "<font size=\"6\">Main script to call functions from other scripts</font> "
   ]
  },
  {
   "cell_type": "markdown",
   "metadata": {},
   "source": [
    "#  Import libraries"
   ]
  },
  {
   "cell_type": "code",
   "execution_count": 1,
   "metadata": {
    "ExecuteTime": {
     "end_time": "2020-05-03T14:51:19.107436Z",
     "start_time": "2020-05-03T14:51:19.104307Z"
    }
   },
   "outputs": [],
   "source": [
    "# Import libraries\n",
    "from pyspark.ml import PipelineModel  # to load the pipeline\n",
    "from threading import Thread\n",
    "from pyspark.streaming import StreamingContext"
   ]
  },
  {
   "cell_type": "markdown",
   "metadata": {},
   "source": [
    "# Get streaming instances"
   ]
  },
  {
   "cell_type": "code",
   "execution_count": 2,
   "metadata": {},
   "outputs": [],
   "source": [
    "class StreamingThread(Thread):\n",
    "    def __init__(self, ssc):\n",
    "        Thread.__init__(self)\n",
    "        self.ssc = ssc\n",
    "    # Start stream\n",
    "    def run(self):\n",
    "        ssc.start()\n",
    "        ssc.awaitTermination()\n",
    "    # Stop stream\n",
    "    def stop(self):\n",
    "        print('----- Stopping... this may take a few seconds -----')\n",
    "        self.ssc.stop(stopSparkContext=False, stopGraceFully=True)"
   ]
  },
  {
   "cell_type": "markdown",
   "metadata": {},
   "source": [
    "#  Load Pipeline 1\n",
    "\n",
    "This pipeline cleans the data and get the data in the right format"
   ]
  },
  {
   "cell_type": "code",
   "execution_count": 3,
   "metadata": {
    "ExecuteTime": {
     "end_time": "2020-05-03T14:50:59.200370Z",
     "start_time": "2020-05-03T14:50:57.582257Z"
    }
   },
   "outputs": [
    {
     "data": {
      "text/html": [
       "<style>.container { width:95% !important; }</style>"
      ],
      "text/plain": [
       "<IPython.core.display.HTML object>"
      ]
     },
     "metadata": {},
     "output_type": "display_data"
    }
   ],
   "source": [
    "# Initialize other notebooks\n",
    "%run \"pipeline1.ipynb\""
   ]
  },
  {
   "cell_type": "markdown",
   "metadata": {},
   "source": [
    "# Load Pipeline 2\n",
    "\n",
    "feature engineering steps and final prediction model"
   ]
  },
  {
   "cell_type": "code",
   "execution_count": 4,
   "metadata": {
    "ExecuteTime": {
     "end_time": "2020-05-03T14:39:24.580175Z",
     "start_time": "2020-05-03T14:39:09.769845Z"
    }
   },
   "outputs": [],
   "source": [
    "pipeline2 = PipelineModel.load(\"../output/models/logistic_regression\")"
   ]
  },
  {
   "cell_type": "markdown",
   "metadata": {},
   "source": [
    "#  Full pipeline"
   ]
  },
  {
   "cell_type": "code",
   "execution_count": 35,
   "metadata": {
    "ExecuteTime": {
     "end_time": "2020-05-03T14:39:27.247743Z",
     "start_time": "2020-05-03T14:39:27.239765Z"
    }
   },
   "outputs": [],
   "source": [
    "def final_pipeline(time, rdd, save_predictions=True, path=\"../../output/predictions/logistic_regression.parquet\", verbose=True):\n",
    "    \"\"\"\"\"\" \"\"\"\n",
    "    This function will serve as the construction pipeline.\n",
    "    Here all preprocessing functions need to be called and \n",
    "    need to be able to handle one wiki edit.\n",
    "    \"\"\" \"\"\"\"\"\"\n",
    "    if rdd.isEmpty():\n",
    "        return\n",
    "    if verbose:\n",
    "        print(\"========= %s =========\" % str(time))\n",
    "\n",
    "    # -------------------------------------------------------------------------\n",
    "    # 1) Pipeline 1: Mostly data cleaning and getting data in the right shape\n",
    "    # -------------------------------------------------------------------------\n",
    "    df = spark.read.json(rdd)\n",
    "    clean_df = get_clean_df(df)\n",
    "    df_with_difference = get_difference_column(clean_df)\n",
    "    final_df = split_difference_into_removed_added(df_with_difference)\n",
    "    \n",
    "    print(f\"Result after pipeline 1:\")\n",
    "    if verbose:\n",
    "        final_df.show(2)\n",
    "        \n",
    "    # ------------------------------------------------------------------------\n",
    "    # 2) Pipeline 2: Feature engineering, and Predicting\n",
    "    # ------------------------------------------------------------------------\n",
    "    predictions = pipeline2.transform(final_df)\n",
    "    print(\"Result after pipeline 2 (predictions):\")\n",
    "    if verbose:\n",
    "        predictions.select(['target', 'label', 'prediction','probability']).show(2)\n",
    "    # save predictions\n",
    "    if save_predictions: \n",
    "        print(f\"saving predictions of batch in: {path}\")\n",
    "        predictions.write.mode(\"append\").save(path)\n",
    "        "
   ]
  },
  {
   "cell_type": "markdown",
   "metadata": {},
   "source": [
    "# Begin online stream and make prediction per wiki edit"
   ]
  },
  {
   "cell_type": "code",
   "execution_count": 36,
   "metadata": {},
   "outputs": [],
   "source": [
    "ssc = StreamingContext(sc, 10) # Get minibatches every 10 seconds"
   ]
  },
  {
   "cell_type": "code",
   "execution_count": 37,
   "metadata": {},
   "outputs": [],
   "source": [
    "lines = ssc.socketTextStream(\"seppe.net\", 7778)\n",
    "path=\"../../output/predictions/logistic_regression\"\n",
    "# lines.foreachRDD(lambda row: final_pipeline(row, path))\n",
    "lines.foreachRDD(final_pipeline)"
   ]
  },
  {
   "cell_type": "code",
   "execution_count": 38,
   "metadata": {
    "scrolled": false
   },
   "outputs": [
    {
     "name": "stdout",
     "output_type": "stream",
     "text": [
      "========= 2020-05-03 21:13:30 =========\n",
      "Result after pipeline 1:\n",
      "+-----+--------------------+-------------+---------+--------------------+--------------------+--------------------+-----------+\n",
      "|label|             comment|   title_page|name_user|      clean_old_text|      clean_new_text|       removed_words|added_words|\n",
      "+-----+--------------------+-------------+---------+--------------------+--------------------+--------------------+-----------+\n",
      "| safe|add authority con...|greg debeljak|  phuzion|short description...|short description...|[authority, contr...|    [empty]|\n",
      "+-----+--------------------+-------------+---------+--------------------+--------------------+--------------------+-----------+\n",
      "\n",
      "Result after pipeline 2 (predictions):\n",
      "+------+-----+----------+--------------------+\n",
      "|target|label|prediction|         probability|\n",
      "+------+-----+----------+--------------------+\n",
      "|   1.0| safe|       1.0|[7.88656607080714...|\n",
      "+------+-----+----------+--------------------+\n",
      "\n",
      "saving predictions of batch in: ../../output/predictions/logistic_regression.parquet\n",
      "========= 2020-05-03 21:13:40 =========\n",
      "Result after pipeline 1:\n",
      "+------+--------------------+--------------------+---------+--------------------+--------------------+--------------------+--------------------+\n",
      "| label|             comment|          title_page|name_user|      clean_old_text|      clean_new_text|       removed_words|         added_words|\n",
      "+------+--------------------+--------------------+---------+--------------------+--------------------+--------------------+--------------------+\n",
      "|unsafe|               empty|     historical left| ferry111|infobox political...|infobox political...|[name, historical...|[name, historical...|\n",
      "|  safe|add authority con...|roger davis ameri...|  phuzion|infobox nfl playe...|infobox nfl biogr...|[infobox, nfl, bi...|[infobox, nfl, pl...|\n",
      "+------+--------------------+--------------------+---------+--------------------+--------------------+--------------------+--------------------+\n",
      "only showing top 2 rows\n",
      "\n",
      "Result after pipeline 2 (predictions):\n",
      "+------+------+----------+--------------------+\n",
      "|target| label|prediction|         probability|\n",
      "+------+------+----------+--------------------+\n",
      "|   0.0|unsafe|       1.0|[0.00140402208529...|\n",
      "|   1.0|  safe|       1.0|[0.13416109024409...|\n",
      "+------+------+----------+--------------------+\n",
      "only showing top 2 rows\n",
      "\n",
      "saving predictions of batch in: ../../output/predictions/logistic_regression.parquet\n",
      "========= 2020-05-03 21:13:50 =========\n",
      "Result after pipeline 1:\n",
      "+-----+--------------------+--------------------+---------+--------------------+--------------------+--------------------+--------------------+\n",
      "|label|             comment|          title_page|name_user|      clean_old_text|      clean_new_text|       removed_words|         added_words|\n",
      "+-----+--------------------+--------------------+---------+--------------------+--------------------+--------------------+--------------------+\n",
      "| safe|date formats perm...|mumby road railwa...|john b123|short description...|short description...|[use, dmy, datesd...|[use, dmy, datesd...|\n",
      "| safe|   season 3 19561957|list of walt disn...|   edo999|dynamic a-listmul...|dynamic a-listmul...|             [empty]|                 [s]|\n",
      "+-----+--------------------+--------------------+---------+--------------------+--------------------+--------------------+--------------------+\n",
      "only showing top 2 rows\n",
      "\n",
      "Result after pipeline 2 (predictions):\n"
     ]
    }
   ],
   "source": [
    "ssc_t = StreamingThread(ssc)\n",
    "ssc_t.start()"
   ]
  },
  {
   "cell_type": "code",
   "execution_count": 39,
   "metadata": {},
   "outputs": [
    {
     "name": "stdout",
     "output_type": "stream",
     "text": [
      "----- Stopping... this may take a few seconds -----\n",
      "+------+-----+----------+--------------------+\n",
      "|target|label|prediction|         probability|\n",
      "+------+-----+----------+--------------------+\n",
      "|   1.0| safe|       1.0|[9.42415150344170...|\n",
      "|   1.0| safe|       1.0|[0.04672664630929...|\n",
      "+------+-----+----------+--------------------+\n",
      "only showing top 2 rows\n",
      "\n",
      "saving predictions of batch in: ../../output/predictions/logistic_regression.parquet\n",
      "========= 2020-05-03 21:14:00 =========\n",
      "Result after pipeline 1:\n",
      "+------+--------+--------------------+----------+--------------------+--------------------+------------------+-----------+\n",
      "| label| comment|          title_page| name_user|      clean_old_text|      clean_new_text|     removed_words|added_words|\n",
      "+------+--------+--------------------+----------+--------------------+--------------------+------------------+-----------+\n",
      "|vandal|   empty|districts of dava...|4914612145|the following is ...|the following is ...|[error_would_occu]|    [empty]|\n",
      "|  safe|clean up|temple of mars co...|     empty|infobox ancient s...|infobox ancient s...|[error_would_occu]|    [empty]|\n",
      "+------+--------+--------------------+----------+--------------------+--------------------+------------------+-----------+\n",
      "only showing top 2 rows\n",
      "\n",
      "Result after pipeline 2 (predictions):\n",
      "+------+------+----------+--------------------+\n",
      "|target| label|prediction|         probability|\n",
      "+------+------+----------+--------------------+\n",
      "|   2.0|vandal|       0.0|[0.54706999182963...|\n",
      "|   1.0|  safe|       0.0|[0.70375082426955...|\n",
      "+------+------+----------+--------------------+\n",
      "only showing top 2 rows\n",
      "\n",
      "saving predictions of batch in: ../../output/predictions/logistic_regression.parquet\n",
      "========= 2020-05-03 21:14:10 =========\n",
      "Result after pipeline 1:\n",
      "+-----+--------------------+--------------------+---------+--------------------+--------------------+--------------------+--------------------+\n",
      "|label|             comment|          title_page|name_user|      clean_old_text|      clean_new_text|       removed_words|         added_words|\n",
      "+-----+--------------------+--------------------+---------+--------------------+--------------------+--------------------+--------------------+\n",
      "| safe|    chile and gaoche|        tiele people| erminwin|history of centra...|history of centra...|             [empty]|             [empty]|\n",
      "| safe|add authority con...|ben davis america...|  phuzion|infobox nfl playe...|infobox nfl biogr...|[infobox, nfl, bi...|[infobox, nfl, pl...|\n",
      "+-----+--------------------+--------------------+---------+--------------------+--------------------+--------------------+--------------------+\n",
      "only showing top 2 rows\n",
      "\n",
      "Result after pipeline 2 (predictions):\n",
      "+------+-----+----------+--------------------+\n",
      "|target|label|prediction|         probability|\n",
      "+------+-----+----------+--------------------+\n",
      "|   1.0| safe|       0.0|[0.97017433469249...|\n",
      "|   1.0| safe|       1.0|[0.12755182222727...|\n",
      "+------+-----+----------+--------------------+\n",
      "only showing top 2 rows\n",
      "\n",
      "saving predictions of batch in: ../../output/predictions/logistic_regression.parquet\n"
     ]
    }
   ],
   "source": [
    "ssc_t.stop()"
   ]
  },
  {
   "cell_type": "markdown",
   "metadata": {},
   "source": [
    "# Check how the model performed on the live data"
   ]
  },
  {
   "cell_type": "code",
   "execution_count": 1,
   "metadata": {},
   "outputs": [],
   "source": [
    "predictions_live = spark.read.parquet(\"../../output/predictions/logistic_regression.parquet\")"
   ]
  },
  {
   "cell_type": "code",
   "execution_count": 2,
   "metadata": {
    "scrolled": false
   },
   "outputs": [
    {
     "name": "stdout",
     "output_type": "stream",
     "text": [
      "+------+------+----------+\n",
      "| label|target|prediction|\n",
      "+------+------+----------+\n",
      "|  safe|   1.0|       2.0|\n",
      "|  safe|   1.0|       1.0|\n",
      "|  safe|   1.0|       0.0|\n",
      "|unsafe|   0.0|       1.0|\n",
      "|  safe|   1.0|       1.0|\n",
      "|  safe|   1.0|       1.0|\n",
      "|  safe|   1.0|       1.0|\n",
      "|  safe|   1.0|       0.0|\n",
      "|  safe|   1.0|       1.0|\n",
      "|  safe|   1.0|       1.0|\n",
      "|  safe|   1.0|       1.0|\n",
      "|vandal|   2.0|       0.0|\n",
      "|  safe|   1.0|       0.0|\n",
      "|  safe|   1.0|       0.0|\n",
      "|  safe|   1.0|       1.0|\n",
      "|  safe|   1.0|       1.0|\n",
      "+------+------+----------+\n",
      "\n"
     ]
    }
   ],
   "source": [
    "predictions_live.select(['label','target','prediction']).show()"
   ]
  },
  {
   "cell_type": "code",
   "execution_count": 25,
   "metadata": {},
   "outputs": [],
   "source": [
    "import matplotlib.pyplot as plt\n",
    "import numpy as np\n",
    "import itertools\n",
    "\n",
    "def plot_confusion_matrix(cm, classes,\n",
    "                          normalize=False,\n",
    "                          title='Confusion matrix',\n",
    "                          cmap=plt.cm.Blues,\n",
    "                          y_title=1.10):\n",
    "    \"\"\"\n",
    "    This function prints and plots the confusion matrix.\n",
    "    Normalization can be applied by setting `normalize=True`.\n",
    "    \"\"\"\n",
    "    if normalize:\n",
    "        cm = cm.astype('float') / cm.sum(axis=1)[:, np.newaxis]\n",
    "        print(\"Normalized confusion matrix\")\n",
    "    else:\n",
    "        print('Confusion matrix, without normalization')\n",
    "\n",
    "    print(cm)\n",
    "\n",
    "    plt.imshow(cm, interpolation='nearest', cmap=cmap)\n",
    "    plt.title(title, y=y_title)\n",
    "    plt.colorbar()\n",
    "    tick_marks = np.arange(len(classes))\n",
    "    plt.xticks(tick_marks, classes, rotation=45)\n",
    "    #plt.yticks(tick_marks, classes)\n",
    "\n",
    "    fmt = '.2f' if normalize else 'd'\n",
    "    thresh = cm.max() / 2.\n",
    "    for i, j in itertools.product(range(cm.shape[0]), range(cm.shape[1])):\n",
    "        plt.text(j, i, format(cm[i, j], fmt),\n",
    "                 horizontalalignment=\"center\",\n",
    "                 color=\"white\" if cm[i, j] > thresh else \"black\")\n",
    "        \n",
    "    \n",
    "\n",
    "    #plt.tight_layout()\n",
    "    plt.ylabel('True label')\n",
    "    plt.xlabel('Predicted label')"
   ]
  },
  {
   "cell_type": "code",
   "execution_count": 34,
   "metadata": {},
   "outputs": [],
   "source": [
    "from sklearn.metrics import confusion_matrix\n",
    "class_names = ['unsafe','safe', 'vandal']\n",
    "y_true = predictions_live.select(\"target\")\n",
    "y_true = y_true.toPandas()\n",
    "\n",
    "y_pred = predictions_live.select(\"prediction\")\n",
    "y_pred = y_pred.toPandas()"
   ]
  },
  {
   "cell_type": "code",
   "execution_count": 35,
   "metadata": {},
   "outputs": [
    {
     "name": "stdout",
     "output_type": "stream",
     "text": [
      "['bmh', 'classic', 'dark_background', 'fast', 'fivethirtyeight', 'ggplot', 'grayscale', 'seaborn-bright', 'seaborn-colorblind', 'seaborn-dark-palette', 'seaborn-dark', 'seaborn-darkgrid', 'seaborn-deep', 'seaborn-muted', 'seaborn-notebook', 'seaborn-paper', 'seaborn-pastel', 'seaborn-poster', 'seaborn-talk', 'seaborn-ticks', 'seaborn-white', 'seaborn-whitegrid', 'seaborn', 'Solarize_Light2', 'tableau-colorblind10', '_classic_test']\n",
      "Normalized confusion matrix\n",
      "[[0.   1.   0.  ]\n",
      " [0.29 0.64 0.07]\n",
      " [1.   0.   0.  ]]\n"
     ]
    },
    {
     "data": {
      "image/png": "[encoded data removed]",
      "text/plain": [
       "<Figure size 432x288 with 2 Axes>"
      ]
     },
     "metadata": {},
     "output_type": "display_data"
    }
   ],
   "source": [
    "# Plot non-normalized confusion matrix\n",
    "print(plt.style.available)\n",
    "plt.style.use('bmh')\n",
    "plt.figure()\n",
    "plot_confusion_matrix(cnf_matrix, classes=class_names, normalize=True,\n",
    "                      title='Confusion matrix, with normalization')\n",
    "plt.show()"
   ]
  }
 ],
 "metadata": {
  "kernelspec": {
   "display_name": "Python 3",
   "language": "python",
   "name": "python3"
  },
  "language_info": {
   "codemirror_mode": {
    "name": "ipython",
    "version": 3
   },
   "file_extension": ".py",
   "mimetype": "text/x-python",
   "name": "python",
   "nbconvert_exporter": "python",
   "pygments_lexer": "ipython3",
   "version": "3.7.3"
  },
  "toc": {
   "base_numbering": 1,
   "nav_menu": {},
   "number_sections": true,
   "sideBar": true,
   "skip_h1_title": false,
   "title_cell": "Table of Contents",
   "title_sidebar": "Contents",
   "toc_cell": false,
   "toc_position": {},
   "toc_section_display": true,
   "toc_window_display": true
  },
  "varInspector": {
   "cols": {
    "lenName": 16,
    "lenType": 16,
    "lenVar": 40
   },
   "kernels_config": {
    "python": {
     "delete_cmd_postfix": "",
     "delete_cmd_prefix": "del ",
     "library": "var_list.py",
     "varRefreshCmd": "print(var_dic_list())"
    },
    "r": {
     "delete_cmd_postfix": ") ",
     "delete_cmd_prefix": "rm(",
     "library": "var_list.r",
     "varRefreshCmd": "cat(var_dic_list()) "
    }
   },
   "types_to_exclude": [
    "module",
    "function",
    "builtin_function_or_method",
    "instance",
    "_Feature"
   ],
   "window_display": false
  }
 },
 "nbformat": 4,
 "nbformat_minor": 4
}
