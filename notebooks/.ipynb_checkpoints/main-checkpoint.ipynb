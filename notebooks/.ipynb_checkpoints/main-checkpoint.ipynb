{
 "cells": [
  {
   "cell_type": "markdown",
   "metadata": {},
   "source": [
    "<font size=\"6\">Main script to call functions from other scripts</font> "
   ]
  },
  {
   "cell_type": "markdown",
   "metadata": {},
   "source": [
    "#  Import libraries"
   ]
  },
  {
   "cell_type": "code",
   "execution_count": 1,
   "metadata": {
    "ExecuteTime": {
     "end_time": "2020-05-03T14:51:19.107436Z",
     "start_time": "2020-05-03T14:51:19.104307Z"
    }
   },
   "outputs": [],
   "source": [
    "# data manipulations\n",
    "import numpy as np\n",
    "import pandas as pd\n",
    "\n",
    "# pypark\n",
    "from pyspark.ml import PipelineModel  # to load the pipeline\n",
    "from threading import Thread\n",
    "from pyspark.streaming import StreamingContext\n",
    "\n",
    "# evaluation statistics\n",
    "from sklearn.metrics import confusion_matrix\n",
    "\n",
    "# visualazing\n",
    "import matplotlib.pyplot as plt\n",
    "\n",
    "# own functions\n",
    "from functions.performance.metrics import plot_confusion_matrix "
   ]
  },
  {
   "cell_type": "code",
   "execution_count": 2,
   "metadata": {},
   "outputs": [],
   "source": [
    "# when you change somehting in your own library (e.g. plot_confusion_matrix) it's automatically updated, you don't need to reimport\n",
    "%load_ext autoreload\n",
    "%autoreload 2"
   ]
  },
  {
   "cell_type": "markdown",
   "metadata": {},
   "source": [
    "## Global variables"
   ]
  },
  {
   "cell_type": "code",
   "execution_count": 7,
   "metadata": {},
   "outputs": [
    {
     "name": "stdout",
     "output_type": "stream",
     "text": [
      "['bmh', 'classic', 'dark_background', 'fast', 'fivethirtyeight', 'ggplot', 'grayscale', 'seaborn-bright', 'seaborn-colorblind', 'seaborn-dark-palette', 'seaborn-dark', 'seaborn-darkgrid', 'seaborn-deep', 'seaborn-muted', 'seaborn-notebook', 'seaborn-paper', 'seaborn-pastel', 'seaborn-poster', 'seaborn-talk', 'seaborn-ticks', 'seaborn-white', 'seaborn-whitegrid', 'seaborn', 'Solarize_Light2', 'tableau-colorblind10', '_classic_test']\n"
     ]
    }
   ],
   "source": [
    "# avaialble plotting styles\n",
    "print(plt.style.available)\n",
    "plt.style.use('bmh')\n",
    "\n",
    "# global variables in CAPITAL letters\n",
    "PATH_LOAD_MODEL = \"../output/models/logistic_regression\"\n",
    "SAVE_PREDICTIONS = True # save predictions\n",
    "PATH_SAVE_PREDICTIONS = \"../../output/predictions/logistic_regression.parquet\" # where to save the predictions\n",
    "VERBOSE = True # print intermediate output"
   ]
  },
  {
   "cell_type": "markdown",
   "metadata": {},
   "source": [
    "# Get streaming instances"
   ]
  },
  {
   "cell_type": "code",
   "execution_count": 4,
   "metadata": {},
   "outputs": [],
   "source": [
    "class StreamingThread(Thread):\n",
    "    def __init__(self, ssc):\n",
    "        Thread.__init__(self)\n",
    "        self.ssc = ssc\n",
    "    # Start stream\n",
    "    def run(self):\n",
    "        ssc.start()\n",
    "        ssc.awaitTermination()\n",
    "    # Stop stream\n",
    "    def stop(self):\n",
    "        print('----- Stopping... this may take a few seconds -----')\n",
    "        self.ssc.stop(stopSparkContext=False, stopGraceFully=True)"
   ]
  },
  {
   "cell_type": "markdown",
   "metadata": {},
   "source": [
    "#  Load Pipeline 1\n",
    "\n",
    "This pipeline cleans the data and get the data in the right format\n",
    "\n",
    "**TODO**\n",
    "\n",
    "```python\n",
    "instead of calling  %run \"pipeline1.ipynb\"  \n",
    "make a proper libary so we can call from functions.data_cleaning import pipeline1\n",
    "```\n",
    "for an example see \n",
    "\n",
    "```python \n",
    "from functions.performance.metrics import plot_confusion_matrix  \n",
    "```\n",
    "this is also a self defined library\n",
    "\n",
    "**Why?** now we have to uncomment code,  because we want to reuse the code in other notebooks,\n",
    "leaving it like this seems bit clumpsy"
   ]
  },
  {
   "cell_type": "code",
   "execution_count": 5,
   "metadata": {
    "ExecuteTime": {
     "end_time": "2020-05-03T14:50:59.200370Z",
     "start_time": "2020-05-03T14:50:57.582257Z"
    }
   },
   "outputs": [
    {
     "data": {
      "text/html": [
       "<style>.container { width:95% !important; }</style>"
      ],
      "text/plain": [
       "<IPython.core.display.HTML object>"
      ]
     },
     "metadata": {},
     "output_type": "display_data"
    }
   ],
   "source": [
    "# Initialize other notebooks\n",
    "%run \"pipeline1.ipynb\""
   ]
  },
  {
   "cell_type": "markdown",
   "metadata": {},
   "source": [
    "# Load Pipeline 2\n",
    "\n",
    "feature engineering steps and final prediction model"
   ]
  },
  {
   "cell_type": "code",
   "execution_count": 8,
   "metadata": {
    "ExecuteTime": {
     "end_time": "2020-05-03T14:39:24.580175Z",
     "start_time": "2020-05-03T14:39:09.769845Z"
    }
   },
   "outputs": [],
   "source": [
    "pipeline2 = PipelineModel.load(PATH_LOAD_MODEL)"
   ]
  },
  {
   "cell_type": "markdown",
   "metadata": {},
   "source": [
    "#  Full pipeline"
   ]
  },
  {
   "cell_type": "code",
   "execution_count": 9,
   "metadata": {
    "ExecuteTime": {
     "end_time": "2020-05-03T14:39:27.247743Z",
     "start_time": "2020-05-03T14:39:27.239765Z"
    }
   },
   "outputs": [],
   "source": [
    "def final_pipeline(time, rdd, save_predictions=SAVE_PREDICTIONS, path=PATH_SAVE_PREDICTIONS, verbose=VERBOSE):\n",
    "    \"\"\"\"\"\" \"\"\"\n",
    "    This function will serve as the construction pipeline.\n",
    "    Here all preprocessing functions need to be called and \n",
    "    need to be able to handle one wiki edit.\n",
    "    \"\"\" \"\"\"\"\"\"\n",
    "    if rdd.isEmpty():\n",
    "        return\n",
    "    if verbose:\n",
    "        print(\"========= %s =========\" % str(time))\n",
    "\n",
    "    # -------------------------------------------------------------------------\n",
    "    # 1) Pipeline 1: Mostly data cleaning and getting data in the right shape\n",
    "    # -------------------------------------------------------------------------\n",
    "    df = spark.read.json(rdd)\n",
    "    clean_df = get_clean_df(df)\n",
    "    df_with_difference = get_difference_column(clean_df)\n",
    "    final_df = split_difference_into_removed_added(df_with_difference)\n",
    "    \n",
    "    print(f\"Result after pipeline 1:\")\n",
    "    if verbose:\n",
    "        final_df.show(2)\n",
    "        \n",
    "    # ------------------------------------------------------------------------\n",
    "    # 2) Pipeline 2: Feature engineering, and Predicting\n",
    "    # ------------------------------------------------------------------------\n",
    "    predictions = pipeline2.transform(final_df)\n",
    "    print(\"Result after pipeline 2 (predictions):\")\n",
    "    if verbose:\n",
    "        predictions.select(['target', 'label', 'prediction','probability']).show(2)\n",
    "    # save predictions\n",
    "    if save_predictions: \n",
    "        print(f\"saving predictions of batch in: {path}\")\n",
    "        predictions.write.mode(\"append\").save(path)\n",
    "        "
   ]
  },
  {
   "cell_type": "markdown",
   "metadata": {},
   "source": [
    "# Begin online stream and make prediction per wiki edit"
   ]
  },
  {
   "cell_type": "code",
   "execution_count": 10,
   "metadata": {},
   "outputs": [],
   "source": [
    "ssc = StreamingContext(sc, 10) # Get minibatches every 10 seconds"
   ]
  },
  {
   "cell_type": "code",
   "execution_count": 11,
   "metadata": {},
   "outputs": [],
   "source": [
    "lines = ssc.socketTextStream(\"seppe.net\", 7778)\n",
    "lines.foreachRDD(final_pipeline)"
   ]
  },
  {
   "cell_type": "code",
   "execution_count": 13,
   "metadata": {},
   "outputs": [
    {
     "name": "stdout",
     "output_type": "stream",
     "text": [
      "========= 2020-05-04 00:00:20 =========\n",
      "Result after pipeline 1:\n",
      "+-----+--------------------+-------------+-----------+--------------------+--------------------+--------------------+-------------+\n",
      "|label|             comment|   title_page|  name_user|      clean_old_text|      clean_new_text|       removed_words|  added_words|\n",
      "+-----+--------------------+-------------+-----------+--------------------+--------------------+--------------------+-------------+\n",
      "| safe|fix typo and rm u...| royal parker|   mandarax|fileroyal polloko...|fileroyal polloko...|             [empty]|[r, logymete]|\n",
      "| safe|               empty|igor grobelny|maister1921|short description...|short description...|[reflist, player,...|      [empty]|\n",
      "+-----+--------------------+-------------+-----------+--------------------+--------------------+--------------------+-------------+\n",
      "\n",
      "Result after pipeline 2 (predictions):\n",
      "+------+-----+----------+--------------------+\n",
      "|target|label|prediction|         probability|\n",
      "+------+-----+----------+--------------------+\n",
      "|   1.0| safe|       1.0|[0.33666563040655...|\n",
      "|   1.0| safe|       1.0|[0.21987568666664...|\n",
      "+------+-----+----------+--------------------+\n",
      "\n",
      "saving predictions of batch in: ../../output/predictions/logistic_regression.parquet\n"
     ]
    }
   ],
   "source": [
    "ssc_t = StreamingThread(ssc)\n",
    "ssc_t.start()"
   ]
  },
  {
   "cell_type": "code",
   "execution_count": 14,
   "metadata": {},
   "outputs": [
    {
     "name": "stdout",
     "output_type": "stream",
     "text": [
      "----- Stopping... this may take a few seconds -----\n",
      "========= 2020-05-04 00:00:30 =========\n",
      "Result after pipeline 1:\n",
      "+------+--------------------+--------------------+--------------------+--------------------+--------------------+--------------------+--------------------+\n",
      "| label|             comment|          title_page|           name_user|      clean_old_text|      clean_new_text|       removed_words|         added_words|\n",
      "+------+--------------------+--------------------+--------------------+--------------------+--------------------+--------------------+--------------------+\n",
      "|  safe|eliminate duplica...|helmuth james von...|          hopsonroad|aboutthe german m...|aboutthe german m...|             [empty]|[cite, newslastma...|\n",
      "|unsafe|               empty|             shakuni|24094065e8651dd50...|use dmy datesdate...|use dmy datesdate...|[shakuni, was, a,...|             [empty]|\n",
      "+------+--------------------+--------------------+--------------------+--------------------+--------------------+--------------------+--------------------+\n",
      "only showing top 2 rows\n",
      "\n",
      "Result after pipeline 2 (predictions):\n",
      "+------+------+----------+--------------------+\n",
      "|target| label|prediction|         probability|\n",
      "+------+------+----------+--------------------+\n",
      "|   1.0|  safe|       0.0|[0.60371939520221...|\n",
      "|   0.0|unsafe|       1.0|[0.45797120228392...|\n",
      "+------+------+----------+--------------------+\n",
      "only showing top 2 rows\n",
      "\n",
      "saving predictions of batch in: ../../output/predictions/logistic_regression.parquet\n",
      "========= 2020-05-04 00:00:40 =========\n",
      "Result after pipeline 1:\n",
      "+-----+--------------------+----------+----------+--------------------+--------------------+--------------------+---------------+\n",
      "|label|             comment|title_page| name_user|      clean_old_text|      clean_new_text|       removed_words|    added_words|\n",
      "+-----+--------------------+----------+----------+--------------------+--------------------+--------------------+---------------+\n",
      "| safe|seti-geo-stub +ac...|   dhakari|   pegship|infobox settlemen...|infobox settlemen...|[achham-geo-stub,...|[seti-geo-stub]|\n",
      "| safe|city of residence...|ron rivera|cypress007|short description...|short description...|      [m, r, na, , ]|    [se, s, de]|\n",
      "+-----+--------------------+----------+----------+--------------------+--------------------+--------------------+---------------+\n",
      "\n",
      "Result after pipeline 2 (predictions):\n",
      "+------+-----+----------+--------------------+\n",
      "|target|label|prediction|         probability|\n",
      "+------+-----+----------+--------------------+\n",
      "|   1.0| safe|       0.0|[0.68075948478434...|\n",
      "|   1.0| safe|       1.0|[0.01359288009955...|\n",
      "+------+-----+----------+--------------------+\n",
      "\n",
      "saving predictions of batch in: ../../output/predictions/logistic_regression.parquet\n",
      "========= 2020-05-04 00:00:50 =========\n",
      "Result after pipeline 1:\n",
      "+-----+--------------------+--------------------+---------+--------------------+--------------------+-------------+-----------+\n",
      "|label|             comment|          title_page|name_user|      clean_old_text|      clean_new_text|removed_words|added_words|\n",
      "+-----+--------------------+--------------------+---------+--------------------+--------------------+-------------+-----------+\n",
      "| safe|spelling wikipedi...|quantum dot cellu...|    cyfal|more footnotesdat...|more footnotesdat...|      [empty]|        [s]|\n",
      "+-----+--------------------+--------------------+---------+--------------------+--------------------+-------------+-----------+\n",
      "\n",
      "Result after pipeline 2 (predictions):\n",
      "+------+-----+----------+--------------------+\n",
      "|target|label|prediction|         probability|\n",
      "+------+-----+----------+--------------------+\n",
      "|   1.0| safe|       0.0|[0.88336372692330...|\n",
      "+------+-----+----------+--------------------+\n",
      "\n",
      "saving predictions of batch in: ../../output/predictions/logistic_regression.parquet\n"
     ]
    }
   ],
   "source": [
    "ssc_t.stop()"
   ]
  },
  {
   "cell_type": "markdown",
   "metadata": {},
   "source": [
    "# Check how we performed on the live data\n",
    "\n",
    "**useful resources:**\n",
    " - https://runawayhorse001.github.io/LearningApacheSpark/classification.html\n",
    "\n",
    "**TODO**\n",
    "- look at other scoring metrics for imbalanced data:\n",
    "    - e.g. Matthews correlation coefficient (MCC)  ==> I think this is one of the best metrics for imbalanced data\n",
    "    - Cohen's kappa statistic\n",
    "    - F1 score\n",
    "    - ..."
   ]
  },
  {
   "cell_type": "code",
   "execution_count": 15,
   "metadata": {},
   "outputs": [
    {
     "name": "stdout",
     "output_type": "stream",
     "text": [
      "+-----+------+----------+\n",
      "|label|target|prediction|\n",
      "+-----+------+----------+\n",
      "| safe|   1.0|       2.0|\n",
      "| safe|   1.0|       0.0|\n",
      "| safe|   1.0|       0.0|\n",
      "| safe|   1.0|       0.0|\n",
      "| safe|   1.0|       1.0|\n",
      "+-----+------+----------+\n",
      "only showing top 5 rows\n",
      "\n"
     ]
    }
   ],
   "source": [
    "# load predictions from live data\n",
    "predictions_live = spark.read.parquet(PATH_SAVE_PREDICTIONS)\n",
    "predictions_live.select(['label','target','prediction']).show(5)"
   ]
  },
  {
   "cell_type": "code",
   "execution_count": 16,
   "metadata": {},
   "outputs": [
    {
     "data": {
      "text/html": [
       "<div>\n",
       "<style scoped>\n",
       "    .dataframe tbody tr th:only-of-type {\n",
       "        vertical-align: middle;\n",
       "    }\n",
       "\n",
       "    .dataframe tbody tr th {\n",
       "        vertical-align: top;\n",
       "    }\n",
       "\n",
       "    .dataframe thead th {\n",
       "        text-align: right;\n",
       "    }\n",
       "</style>\n",
       "<table border=\"1\" class=\"dataframe\">\n",
       "  <thead>\n",
       "    <tr style=\"text-align: right;\">\n",
       "      <th></th>\n",
       "      <th>unsafe</th>\n",
       "      <th>safe</th>\n",
       "      <th>vandal</th>\n",
       "    </tr>\n",
       "  </thead>\n",
       "  <tbody>\n",
       "    <tr>\n",
       "      <td>unsafe</td>\n",
       "      <td>9</td>\n",
       "      <td>10</td>\n",
       "      <td>0</td>\n",
       "    </tr>\n",
       "    <tr>\n",
       "      <td>safe</td>\n",
       "      <td>111</td>\n",
       "      <td>91</td>\n",
       "      <td>3</td>\n",
       "    </tr>\n",
       "    <tr>\n",
       "      <td>vandal</td>\n",
       "      <td>4</td>\n",
       "      <td>0</td>\n",
       "      <td>0</td>\n",
       "    </tr>\n",
       "  </tbody>\n",
       "</table>\n",
       "</div>"
      ],
      "text/plain": [
       "        unsafe  safe  vandal\n",
       "unsafe       9    10       0\n",
       "safe       111    91       3\n",
       "vandal       4     0       0"
      ]
     },
     "execution_count": 16,
     "metadata": {},
     "output_type": "execute_result"
    }
   ],
   "source": [
    "class_names = ['unsafe','safe', 'vandal']\n",
    "y_true = predictions_live.select(\"label\").toPandas()\n",
    "y_pred = predictions_live.select(\"prediction\").toPandas()\n",
    "y_pred = y_pred['prediction'].map({0:'unsafe',1:'safe', 2:'vandal'}, na_action='ignore')\n",
    "\n",
    "# make confusion matrix\n",
    "cnf_matrix = confusion_matrix(y_true=y_true, y_pred=y_pred, labels=class_names)\n",
    "pd.DataFrame(cnf_matrix, columns=class_names, index=class_names)"
   ]
  },
  {
   "cell_type": "code",
   "execution_count": 17,
   "metadata": {},
   "outputs": [
    {
     "name": "stdout",
     "output_type": "stream",
     "text": [
      "Confusion matrix, without normalization\n",
      "        unsafe  safe  vandal\n",
      "unsafe       9    10       0\n",
      "safe       111    91       3\n",
      "vandal       4     0       0\n"
     ]
    },
    {
     "data": {
      "image/png": "[encoded data removed]",
      "text/plain": [
       "<Figure size 432x288 with 2 Axes>"
      ]
     },
     "metadata": {},
     "output_type": "display_data"
    }
   ],
   "source": [
    "# Plot non-normalized confusion matrix\n",
    "plt.figure()\n",
    "plot_confusion_matrix(cnf_matrix, classes=class_names, normalize=False,\n",
    "                      title='Confusion matrix, without normalization')\n",
    "\n",
    "# I need to fix this manually, we should fix this in the future (this look bit clumpsy)\n",
    "plt.yticks([2.5,2,1.5,1,0.5,0,-.5],labels=[\"\",\"vandal\",\"\",\"safe\",\"\",\"unsafe\"]);"
   ]
  }
 ],
 "metadata": {
  "kernelspec": {
   "display_name": "Python 3",
   "language": "python",
   "name": "python3"
  },
  "language_info": {
   "codemirror_mode": {
    "name": "ipython",
    "version": 3
   },
   "file_extension": ".py",
   "mimetype": "text/x-python",
   "name": "python",
   "nbconvert_exporter": "python",
   "pygments_lexer": "ipython3",
   "version": "3.7.3"
  },
  "toc": {
   "base_numbering": 1,
   "nav_menu": {},
   "number_sections": true,
   "sideBar": true,
   "skip_h1_title": false,
   "title_cell": "Table of Contents",
   "title_sidebar": "Contents",
   "toc_cell": false,
   "toc_position": {},
   "toc_section_display": true,
   "toc_window_display": true
  },
  "varInspector": {
   "cols": {
    "lenName": 16,
    "lenType": 16,
    "lenVar": 40
   },
   "kernels_config": {
    "python": {
     "delete_cmd_postfix": "",
     "delete_cmd_prefix": "del ",
     "library": "var_list.py",
     "varRefreshCmd": "print(var_dic_list())"
    },
    "r": {
     "delete_cmd_postfix": ") ",
     "delete_cmd_prefix": "rm(",
     "library": "var_list.r",
     "varRefreshCmd": "cat(var_dic_list()) "
    }
   },
   "types_to_exclude": [
    "module",
    "function",
    "builtin_function_or_method",
    "instance",
    "_Feature"
   ],
   "window_display": false
  }
 },
 "nbformat": 4,
 "nbformat_minor": 4
}
