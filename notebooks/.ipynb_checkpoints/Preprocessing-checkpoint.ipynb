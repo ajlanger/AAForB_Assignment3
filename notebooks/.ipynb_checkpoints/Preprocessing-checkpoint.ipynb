{
 "cells": [
  {
   "cell_type": "code",
   "execution_count": 1,
   "metadata": {},
   "outputs": [],
   "source": [
    "# Import libraries\n",
    "from pyspark.streaming import StreamingContext"
   ]
  },
  {
   "cell_type": "markdown",
   "metadata": {},
   "source": [
    "# 1. load in the collected data"
   ]
  },
  {
   "cell_type": "code",
   "execution_count": 2,
   "metadata": {},
   "outputs": [
    {
     "name": "stdout",
     "output_type": "stream",
     "text": [
      "root\n",
      " |-- comment: string (nullable = true)\n",
      " |-- label: string (nullable = true)\n",
      " |-- name_user: string (nullable = true)\n",
      " |-- text_new: string (nullable = true)\n",
      " |-- text_old: string (nullable = true)\n",
      " |-- title_page: string (nullable = true)\n",
      " |-- url_page: string (nullable = true)\n",
      "\n"
     ]
    }
   ],
   "source": [
    "# Check amount of different labels\n",
    "\n",
    "# A JSON dataset is pointed to by path.\n",
    "# The path can be either a single text file or a directory storing text files\n",
    "path = \"../data/*\"\n",
    "wiki_df = spark.read.json(path)\n",
    "\n",
    "# The inferred schema can be visualized using the printSchema() method\n",
    "wiki_df.printSchema()"
   ]
  },
  {
   "cell_type": "markdown",
   "metadata": {},
   "source": [
    "## 1.1. Check the amount of label counts"
   ]
  },
  {
   "cell_type": "code",
   "execution_count": 3,
   "metadata": {},
   "outputs": [
    {
     "name": "stdout",
     "output_type": "stream",
     "text": [
      "+------+--------+\n",
      "| label|count(1)|\n",
      "+------+--------+\n",
      "|  safe|   25213|\n",
      "|unsafe|    3195|\n",
      "|vandal|     216|\n",
      "+------+--------+\n",
      "\n"
     ]
    }
   ],
   "source": [
    "# Creates a temporary view using the DataFrame\n",
    "wiki_df.createOrReplaceTempView(\"wikidata\")\n",
    "\n",
    "# Check the amount of safes/unsafes/vandals\n",
    "label_df = spark.sql(\"SELECT label, count(*) FROM wikidata GROUP BY label\")\n",
    "label_df.show()\n",
    "\n",
    "#  +------+--------+ --> +------+--------+ --> +------+--------+ --> +------+--------+ --> +------+--------+\n",
    "#  | label|count(1)| --> | label|count(1)| --> | label|count(1)| --> | label|count(1)| --> | label|count(1)|\n",
    "#  +------+--------+ --> +------+--------+ --> +------+--------+ --> +------+--------+ --> +------+--------+\n",
    "#  |  safe|    8685| --> |  safe|   14160| --> |  safe|   15451| --> |  safe|   20940| --> |  safe|   25213|\n",
    "#  |unsafe|    1222| --> |unsafe|    1797| --> |unsafe|    2005| --> |unsafe|    2705| --> |unsafe|    3195|\n",
    "#  |vandal|      91| --> |vandal|     125| --> |vandal|     139| --> |vandal|     184| --> |vandal|     216|\n",
    "#  +------+--------+ --> +------+--------+ --> +------+--------+ --> +------+--------+ --> +------+--------+"
   ]
  },
  {
   "cell_type": "code",
   "execution_count": null,
   "metadata": {},
   "outputs": [],
   "source": []
  }
 ],
 "metadata": {
  "kernelspec": {
   "display_name": "Python_thesis",
   "language": "python",
   "name": "python3"
  },
  "language_info": {
   "codemirror_mode": {
    "name": "ipython",
    "version": 3
   },
   "file_extension": ".py",
   "mimetype": "text/x-python",
   "name": "python",
   "nbconvert_exporter": "python",
   "pygments_lexer": "ipython3",
   "version": "3.7.4"
  }
 },
 "nbformat": 4,
 "nbformat_minor": 4
}
